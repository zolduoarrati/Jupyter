{
 "cells": [
  {
   "cell_type": "code",
   "execution_count": null,
   "id": "2f084860",
   "metadata": {},
   "outputs": [],
   "source": [
    "pip install subsample"
   ]
  },
  {
   "cell_type": "code",
   "execution_count": null,
   "id": "9b37e3b2",
   "metadata": {},
   "outputs": [],
   "source": [
    "subsample -n 664 Locations.csv > Locations_sample.csv"
   ]
  },
  {
   "cell_type": "code",
   "execution_count": null,
   "id": "30ea74ea",
   "metadata": {},
   "outputs": [],
   "source": [
    "subsample -n (664) Locations.csv -r > Locations_sample.csv"
   ]
  },
  {
   "cell_type": "code",
   "execution_count": null,
   "id": "80c63836",
   "metadata": {},
   "outputs": [],
   "source": [
    "shuf -n 664 Locations.csv > Locations_sample.csv ##bash"
   ]
  },
  {
   "cell_type": "code",
   "execution_count": null,
   "id": "54f84404",
   "metadata": {},
   "outputs": [],
   "source": [
    "import pandas\n",
    "import random"
   ]
  },
  {
   "cell_type": "code",
   "execution_count": null,
   "id": "5db327aa",
   "metadata": {},
   "outputs": [],
   "source": [
    "n = 14839627 #number of records in file\n",
    "s = 664 #desired sample size\n",
    "filename = \"Locations.csv\"\n",
    "skip = sorted(random.sample(range(n),n-s))\n",
    "df = pandas.read_csv(filename, skiprows=skip)\n",
    "df.to_csv('Locations_sample.csv')"
   ]
  },
  {
   "cell_type": "code",
   "execution_count": null,
   "id": "1a5e0a21",
   "metadata": {},
   "outputs": [],
   "source": []
  }
 ],
 "metadata": {
  "kernelspec": {
   "display_name": "Python 3",
   "language": "python",
   "name": "python3"
  },
  "language_info": {
   "codemirror_mode": {
    "name": "ipython",
    "version": 3
   },
   "file_extension": ".py",
   "mimetype": "text/x-python",
   "name": "python",
   "nbconvert_exporter": "python",
   "pygments_lexer": "ipython3",
   "version": "3.8.8"
  }
 },
 "nbformat": 4,
 "nbformat_minor": 5
}
